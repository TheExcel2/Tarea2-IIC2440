{
  "cells": [
    {
      "cell_type": "markdown",
      "metadata": {
        "id": "KOtCft0XwmRD"
      },
      "source": [
        "# <img style=\"float: left; padding: 0px 10px 0px 0px;\" src=\"https://upload.wikimedia.org/wikipedia/commons/thumb/8/84/Escudo_de_la_Pontificia_Universidad_Cat%C3%B3lica_de_Chile.svg/1920px-Escudo_de_la_Pontificia_Universidad_Cat%C3%B3lica_de_Chile.svg.png\"  width=\"80\" /> IIC2440 - Procesamiento de Datos Masivos\n",
        "**Pontificia Universidad Católica de Chile**<br>\n",
        "**Semestre 2024-1**<br>\n",
        "**Profesor:** Juan Reutter, Adrián Soto <br>\n",
        "**Integrantes:** David Ortega, Bastian Baez Oses <br>\n",
        "\n",
        "\n",
        "\n",
        "\n",
        "\n",
        "---"
      ]
    },
    {
      "cell_type": "markdown",
      "source": [
        "# Bullet 1"
      ],
      "metadata": {
        "id": "plSmU6ITa41u"
      }
    },
    {
      "cell_type": "code",
      "execution_count": null,
      "metadata": {
        "id": "cpz94b8lTPLx"
      },
      "outputs": [],
      "source": [
        "from neo4j import GraphDatabase\n",
        "import pandas as pd\n",
        "\n",
        "# Conexión a Neo4j\n",
        "URI = \"bolt://localhost:7687\"\n",
        "AUTH = (\"neo4j\", \"12345678\")\n",
        "\n",
        "# Función pedida\n",
        "def get_nodes_and_relationships(uri, auth):\n",
        "    driver = GraphDatabase.driver(uri, auth=auth)\n",
        "    nodes = []\n",
        "    relationships = []\n",
        "\n",
        "    def fetch_graph(tx):\n",
        "        result = tx.run(\"MATCH (n)-[r:TICKET]->(m) RETURN id(n) AS from, id(m) AS to, r.type AS type\")\n",
        "        for record in result:\n",
        "            relationships.append((record[\"from\"], record[\"type\"], record[\"to\"]))\n",
        "\n",
        "    with driver.session() as session:\n",
        "        session.read_transaction(fetch_graph)\n",
        "\n",
        "    driver.close()\n",
        "    return relationships\n",
        "\n",
        "# Obtener nodos y relaciones de Neo4j\n",
        "relationships = get_nodes_and_relationships(URI, AUTH)\n",
        "print(\"Relaciones en Neo4j:\\n\", relationships)\n",
        "\n",
        "# relationships son las relaciones para cargar en el pyspark. El output seria\n",
        "# el siguiente:\n"
      ]
    },
    {
      "cell_type": "markdown",
      "metadata": {
        "id": "P-zqIzB932zy"
      },
      "source": [
        "![output_neo4j.png](data:image/png;base64,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)"
      ]
    },
    {
      "cell_type": "markdown",
      "source": [
        "## Definiciones grafos"
      ],
      "metadata": {
        "id": "43R0KvppbPHO"
      }
    },
    {
      "cell_type": "code",
      "source": [
        "!pip install pyspark\n",
        "\n",
        "from pyspark.sql import SparkSession\n",
        "import numpy as np\n",
        "from itertools import combinations\n",
        "\n",
        "spark = SparkSession.builder.getOrCreate()\n",
        "sc = spark.sparkContext\n",
        "sc\n",
        "\n",
        "# Datos de prueba\n",
        "edges = [\n",
        "    (0,11,2),\n",
        "    (0,11,3),\n",
        "    (1,11,2),\n",
        "    (2,11,1),\n",
        "    (2,11,3),\n",
        "    (3,11,0),\n",
        "    (3,11,1),\n",
        "    (3,11,2),\n",
        "    (3,12,5),\n",
        "    (4,12,0),\n",
        "    (5,12,0),\n",
        "    (4,12,5),\n",
        "    (3,12,1),\n",
        "    (1,12,2),\n",
        "    (2,12,0),\n",
        "    (0,12,3),\n",
        "    ]\n",
        "\n",
        "# Crear la RDD\n",
        "rdd = sc.parallelize(edges)"
      ],
      "metadata": {
        "id": "XcqsVGJMOMzI",
        "colab": {
          "base_uri": "https://localhost:8080/"
        },
        "outputId": "e722d4c6-c83a-43ee-c341-26fdcfddb0d2"
      },
      "execution_count": null,
      "outputs": [
        {
          "output_type": "stream",
          "name": "stdout",
          "text": [
            "Requirement already satisfied: pyspark in /usr/local/lib/python3.10/dist-packages (3.5.1)\n",
            "Requirement already satisfied: py4j==0.10.9.7 in /usr/local/lib/python3.10/dist-packages (from pyspark) (0.10.9.7)\n"
          ]
        }
      ]
    },
    {
      "cell_type": "markdown",
      "source": [
        "## Bullet 2\n"
      ],
      "metadata": {
        "id": "Vpg0k4S4bzYx"
      }
    },
    {
      "cell_type": "code",
      "execution_count": null,
      "metadata": {
        "colab": {
          "base_uri": "https://localhost:8080/"
        },
        "id": "08MsKxNc0Gyc",
        "outputId": "160b3775-f5fa-49d4-c11d-a8d761b7eb47"
      },
      "outputs": [
        {
          "output_type": "stream",
          "name": "stdout",
          "text": [
            "Triangulos\n",
            "(3, 2, 0)\n",
            "(3, 5, 0)\n",
            "(1, 2, 3)\n",
            "(0, 2, 3)\n",
            "(3, 0, 2)\n",
            "(3, 1, 2)\n",
            "(2, 3, 1)\n",
            "(5, 0, 3)\n",
            "(0, 3, 5)\n",
            "(2, 0, 3)\n",
            "(0, 3, 2)\n",
            "(2, 3, 0)\n"
          ]
        }
      ],
      "source": [
        "# Parámetro b\n",
        "b = 5\n",
        "\n",
        "# Función hash\n",
        "def hash_function(node, b):\n",
        "    return node % b\n",
        "\n",
        "# Función de map\n",
        "def mapfunc(arista, b):\n",
        "  n1, etiqueta, n2 = arista\n",
        "  b1 = hash_function(n1, b)\n",
        "  b2 = hash_function(n2, b)\n",
        "  results = []\n",
        "  for i in range(b):\n",
        "    key = (b1, b2, i)\n",
        "    results.append((key, arista))\n",
        "    key =  (i, b1, b2)\n",
        "    results.append((key, arista))\n",
        "    key = (b2, i, b1)\n",
        "    results.append((key, arista))\n",
        "  return results\n",
        "\n",
        "\n",
        "# Fase de Reduce\n",
        "def reduce_function(key, values):\n",
        "    edges = list(values)\n",
        "    triangles = []\n",
        "    for (n1, R1, n2) in edges:\n",
        "        for (n2_, R2, n3) in edges:\n",
        "            if n2 == n2_:\n",
        "                for (n3_, R3, n1_) in edges:\n",
        "                    if n3 == n3_ and n1 == n1_:\n",
        "                        triangles.append((n1, n2, n3))\n",
        "    return triangles\n",
        "\n",
        "\n",
        "\n",
        "\n",
        "# Aplicar el algoritmo\n",
        "triangulos = set(rdd.flatMap(lambda x: mapfunc(x, 5)).groupByKey().flatMap(lambda x: reduce_function(x[0], x[1])).collect())\n",
        "\n",
        "print(\"Triangulos\")\n",
        "if len(triangulos)>0:\n",
        "  for triangulo in triangulos:\n",
        "    print(triangulo)\n",
        "else:\n",
        "  print(\"No se encontraron triangulos\")\n",
        "\n",
        "\n"
      ]
    },
    {
      "cell_type": "markdown",
      "source": [
        "# Bullet 4"
      ],
      "metadata": {
        "id": "2MuZM2wUb2S6"
      }
    },
    {
      "cell_type": "code",
      "execution_count": null,
      "metadata": {
        "id": "VW7_W4ul_1k0"
      },
      "outputs": [],
      "source": [
        "# Parámetro b\n",
        "b = 5\n",
        "\n",
        "# Fase de Map\n",
        "def map_function(arista, b):\n",
        "    n1, etiqueta, n2 = arista\n",
        "    b1 = hash_function(n1, b)\n",
        "    b2 = hash_function(n2, b)\n",
        "    results = []\n",
        "    for i in range(b):\n",
        "        for j in range(b):\n",
        "            key = (b1, b2, i, j)\n",
        "            results.append((key, arista))\n",
        "            key = (b1, i, b2, j)\n",
        "            results.append((key, arista))\n",
        "            key = (b1, i, j, b2)\n",
        "            results.append((key, arista))\n",
        "            key = (i, b1, b2, j)\n",
        "            results.append((key, arista))\n",
        "            key = (i, b1, j, b2)\n",
        "            results.append((key, arista))\n",
        "            key = (b2, b1, i, j)\n",
        "            results.append((key, arista))\n",
        "            key = (i, j, b1, b2)\n",
        "            results.append((key, arista))\n",
        "            key = (b2, j, b1, i)\n",
        "            results.append((key, arista))\n",
        "            key = (i, b2, b1, j)\n",
        "            results.append((key, arista))\n",
        "            key = (b2, i, j, b1)\n",
        "            results.append((key, arista))\n",
        "            key = (i, b2, j, b1)\n",
        "            results.append((key, arista))\n",
        "            key = (i, j, b2, b1)\n",
        "            results.append((key, arista))\n",
        "    return results\n",
        "\n",
        "def encontrar_patrones(grafo, patron):\n",
        "    resultados = []\n",
        "    m = len(patron)\n",
        "    grafo = list(grafo)\n",
        "    grafo.sort(key=lambda x: (x[0], x[2]))\n",
        "    grafo.sort(key=lambda x: x[1])\n",
        "\n",
        "    # Función auxiliar para verificar si una subsecuencia del grafo coincide con el patrón\n",
        "    def coincide_subsecuencia(subgrafo, patron):\n",
        "        asignacion = {}\n",
        "        for (nodo1, etiqueta1, nodo2), (nodo_patron1, etiqueta_patron, nodo_patron2) in zip(subgrafo, patron):\n",
        "\n",
        "            if etiqueta1 != etiqueta_patron:\n",
        "                return False\n",
        "            if nodo_patron1 not in asignacion:\n",
        "                if nodo1 in asignacion.values():\n",
        "                  return False\n",
        "                asignacion[nodo_patron1] = nodo1\n",
        "            elif asignacion[nodo_patron1] != nodo1:\n",
        "                return False\n",
        "            if nodo_patron2 not in asignacion:\n",
        "              if nodo2 in asignacion.values():\n",
        "                  return False\n",
        "              asignacion[nodo_patron2] = nodo2\n",
        "            elif asignacion[nodo_patron2] != nodo2:\n",
        "                return False\n",
        "        return True\n",
        "\n",
        "    # Generar todas las combinaciones posibles de aristas del grafo de longitud igual al patrón\n",
        "    for subgrafo in combinations(grafo, m):\n",
        "        if coincide_subsecuencia(subgrafo, patron):\n",
        "            resultados.append(subgrafo)\n",
        "\n",
        "    return resultados\n",
        "\n",
        "\n",
        "# Función para convertir la matriz M a una lista de tuplas (nodo_x, arista, nodo_y)\n",
        "def convert_matrix_to_edge_list(A, L, M):\n",
        "    edge_list = []\n",
        "    for i in range(len(A)):\n",
        "        for j in range(len(A)):\n",
        "            for k in range(len(L)):\n",
        "                if M[i][k][j] == 1:\n",
        "                    edge_list.append((i, L[k], j))\n",
        "    return edge_list\n",
        "\n",
        "\n",
        "def bullet_4(A, L, M, b):\n",
        "  patron = convert_matrix_to_edge_list(A,L,M)\n",
        "  patron.sort(key=lambda x: (x[0], x[2]))\n",
        "  patron.sort(key=lambda x: x[1])\n",
        "  mapeado = rdd.flatMap(lambda edge: map_function(edge, b))\n",
        "  retorno = set(mapeado.groupByKey().flatMap(lambda x: encontrar_patrones(x[1], patron)).collect())\n",
        "  if len(retorno) > 0:\n",
        "    print(\"El patron se encontró en:\")\n",
        "    for p in retorno:\n",
        "      print(p)\n",
        "  else:\n",
        "    print(\"No se encontró el patron en el grafo\")\n"
      ]
    },
    {
      "cell_type": "markdown",
      "source": [
        "## TESTEO"
      ],
      "metadata": {
        "id": "RwmzR7JmTaYy"
      }
    },
    {
      "cell_type": "code",
      "source": [
        "# Nodos y tipos de aristas\n",
        "A = [\"x\", \"y\", \"z\", \"w\"]\n",
        "L = [11, 12]\n",
        "\n",
        "# Ejemplo de aristas\n",
        "edges_patron = [\n",
        "    (0,0,2), # (\"x\", \"11\", \"z\")\n",
        "    (0,0,3), # (\"x\", \"11\", \"w\")\n",
        "    (1,0,2), # (\"y\", \"11\", \"z\")\n",
        "    (2,0,1), # (\"z\", \"11\", \"y\")\n",
        "    (2,0,3), # (\"w\", \"11\", \"z\")\n",
        "    (3,0,0), # (\"w\", \"11\", \"x\")\n",
        "    (1,1,2), # (\"y\", \"12\", \"z\")\n",
        "    (2,1,0), # (\"z\", \"12\", \"x\")\n",
        "]\n",
        "\n",
        "# Inicializar la matriz M con ceros\n",
        "num_nodes = len(A)\n",
        "num_edges = len(L)\n",
        "M = np.zeros((num_nodes, num_edges, num_nodes), dtype=int)\n",
        "\n",
        "# Llenar la matriz M con las aristas\n",
        "for x, r, y in edges_patron:\n",
        "  M[x][r][y] = 1\n",
        "\n",
        "# Convertir la matriz NumPy a una lista de listas\n",
        "M = M.tolist()\n",
        "\n",
        "print(\"Matriz:\", M)"
      ],
      "metadata": {
        "colab": {
          "base_uri": "https://localhost:8080/"
        },
        "id": "7Y4HAWr8O0KV",
        "outputId": "fd0a73b4-6645-4131-b6a8-3621fbff899b"
      },
      "execution_count": null,
      "outputs": [
        {
          "output_type": "stream",
          "name": "stdout",
          "text": [
            "Matriz: [[[0, 0, 1, 1], [0, 0, 0, 0]], [[0, 0, 1, 0], [0, 0, 1, 0]], [[0, 1, 0, 1], [1, 0, 0, 0]], [[1, 0, 0, 0], [0, 0, 0, 0]]]\n"
          ]
        }
      ]
    },
    {
      "cell_type": "code",
      "source": [
        "bullet_4(A,L,M,b)"
      ],
      "metadata": {
        "colab": {
          "base_uri": "https://localhost:8080/"
        },
        "id": "BZrP_EddR9wY",
        "outputId": "ebe0512f-bc77-4d46-e3bc-a330df450d66"
      },
      "execution_count": null,
      "outputs": [
        {
          "output_type": "stream",
          "name": "stdout",
          "text": [
            "El patron se encontró en:\n",
            "((0, 11, 2), (0, 11, 3), (1, 11, 2), (2, 11, 1), (2, 11, 3), (3, 11, 0), (1, 12, 2), (2, 12, 0))\n"
          ]
        }
      ]
    },
    {
      "cell_type": "code",
      "source": [
        "# Nodos y tipos de aristas\n",
        "A = [\"x\", \"y\", \"z\", \"w\"]\n",
        "L = [11, 12, 13]\n",
        "\n",
        "# Ejemplo de aristas\n",
        "edges_patron = [\n",
        "    (0,2,2)\n",
        "]\n",
        "\n",
        "# Inicializar la matriz M con ceros\n",
        "num_nodes = len(A)\n",
        "num_edges = len(L)\n",
        "M = np.zeros((num_nodes, num_edges, num_nodes), dtype=int)\n",
        "\n",
        "# Llenar la matriz M con las aristas\n",
        "for x, r, y in edges_patron:\n",
        "  M[x][r][y] = 1\n",
        "\n",
        "# Convertir la matriz NumPy a una lista de listas\n",
        "M = M.tolist()\n",
        "\n",
        "bullet_4(A,L,M,b)"
      ],
      "metadata": {
        "colab": {
          "base_uri": "https://localhost:8080/"
        },
        "id": "EKTZefHlRi2A",
        "outputId": "9539b01c-6609-4908-8600-943f16e8d785"
      },
      "execution_count": null,
      "outputs": [
        {
          "output_type": "stream",
          "name": "stdout",
          "text": [
            "No se encontró el patron en el grafo\n"
          ]
        }
      ]
    },
    {
      "cell_type": "code",
      "source": [
        "# Nodos y tipos de aristas\n",
        "A = [\"x\", \"y\", \"z\", \"w\"]\n",
        "L = [11, 12, 13]\n",
        "\n",
        "# Ejemplo de aristas\n",
        "edges_patron = [\n",
        "    (0,0,1),\n",
        "    (1,0,2),\n",
        "    (2,1,3),\n",
        "    (3,1,0)\n",
        "]\n",
        "\n",
        "# Inicializar la matriz M con ceros\n",
        "num_nodes = len(A)\n",
        "num_edges = len(L)\n",
        "M = np.zeros((num_nodes, num_edges, num_nodes), dtype=int)\n",
        "\n",
        "# Llenar la matriz M con las aristas\n",
        "for x, r, y in edges_patron:\n",
        "  M[x][r][y] = 1\n",
        "\n",
        "# Convertir la matriz NumPy a una lista de listas\n",
        "M = M.tolist()\n",
        "\n",
        "bullet_4(A,L,M,b)"
      ],
      "metadata": {
        "colab": {
          "base_uri": "https://localhost:8080/"
        },
        "id": "e30nDXB_XDWL",
        "outputId": "ae710040-24f7-4b9d-daa0-ffcd03b19f2f"
      },
      "execution_count": null,
      "outputs": [
        {
          "output_type": "stream",
          "name": "stdout",
          "text": [
            "El patron se encontró en:\n",
            "((0, 11, 2), (2, 11, 3), (3, 12, 5), (5, 12, 0))\n",
            "((0, 11, 3), (3, 11, 1), (1, 12, 2), (2, 12, 0))\n"
          ]
        }
      ]
    }
  ],
  "metadata": {
    "colab": {
      "provenance": []
    },
    "kernelspec": {
      "display_name": "Python 3",
      "name": "python3"
    },
    "language_info": {
      "name": "python"
    }
  },
  "nbformat": 4,
  "nbformat_minor": 0
}