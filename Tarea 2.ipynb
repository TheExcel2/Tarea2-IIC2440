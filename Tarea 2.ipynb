{
  "cells": [
    {
      "cell_type": "markdown",
      "metadata": {
        "id": "KOtCft0XwmRD"
      },
      "source": [
        "# <img style=\"float: left; padding: 0px 10px 0px 0px;\" src=\"https://upload.wikimedia.org/wikipedia/commons/thumb/8/84/Escudo_de_la_Pontificia_Universidad_Cat%C3%B3lica_de_Chile.svg/1920px-Escudo_de_la_Pontificia_Universidad_Cat%C3%B3lica_de_Chile.svg.png\"  width=\"80\" /> IIC2440 - Procesamiento de Datos Masivos\n",
        "**Pontificia Universidad Católica de Chile**<br>\n",
        "**Semestre 2024-1**<br>\n",
        "**Profesor:** Juan Reutter, Adrián Soto <br>\n",
        "**Integrantes:** David Ortega, Bastian Baez Oses <br>\n",
        "\n",
        "\n",
        "\n",
        "\n",
        "\n",
        "---"
      ]
    },
    {
      "cell_type": "markdown",
      "source": [
        "# Bullet 1"
      ],
      "metadata": {
        "id": "plSmU6ITa41u"
      }
    },
    {
      "cell_type": "code",
      "execution_count": null,
      "metadata": {
        "id": "cpz94b8lTPLx"
      },
      "outputs": [],
      "source": [
        "from neo4j import GraphDatabase\n",
        "import pandas as pd\n",
        "\n",
        "# Testeo df\n",
        "edges = [\n",
        "    (0,11,2),\n",
        "    (0,11,3),\n",
        "    (1,11,2),\n",
        "    (2,11,1),\n",
        "    (2,11,3),\n",
        "    (3,11,0),\n",
        "    (3,11,1),\n",
        "    (3,11,2),\n",
        "    (3,12,5),\n",
        "    (4,12,0),\n",
        "    (5,12,0),\n",
        "    (4,12,5),\n",
        "    (3,12,1),\n",
        "    (1,12,2),\n",
        "    (2,12,0),\n",
        "    (0,12,3),\n",
        "    ]\n",
        "\n",
        "df = pd.DataFrame(edges, columns=['n1', 'ticket', 'n2'])\n",
        "\n",
        "\n",
        "# Cargar df\n",
        "def create_nodes_and_relationships(uri, auth, df):\n",
        "    driver = GraphDatabase.driver(uri, auth=auth)\n",
        "\n",
        "    def create_graph(tx, df):\n",
        "        for index, row in df.iterrows():\n",
        "            query = (\n",
        "                \"MERGE (a:Node {id: $n1}) \"\n",
        "                \"MERGE (b:Node {id: $n2}) \"\n",
        "                \"MERGE (a)-[:TICKET {type: $ticket}]->(b)\"\n",
        "            )\n",
        "            tx.run(query, n1=row['n1'], n2=row['n2'], ticket=row['ticket'])\n",
        "\n",
        "    with driver.session() as session:\n",
        "        session.write_transaction(create_graph, df)\n",
        "\n",
        "    driver.close()\n",
        "\n",
        "# Conexión a Neo4j\n",
        "URI = \"bolt://localhost:7687\"\n",
        "AUTH = (\"neo4j\", \"12345678\")\n",
        "\n",
        "# Cargar el DataFrame en Neo4j\n",
        "create_nodes_and_relationships(URI, AUTH, df)\n",
        "\n",
        "# Función pedida\n",
        "def get_nodes_and_relationships(uri, auth):\n",
        "    driver = GraphDatabase.driver(uri, auth=auth)\n",
        "    nodes = []\n",
        "    relationships = []\n",
        "\n",
        "    def fetch_graph(tx):\n",
        "        result = tx.run(\"MATCH (n)-[r:TICKET]->(m) RETURN id(n) AS from, id(m) AS to, r.type AS type\")\n",
        "        for record in result:\n",
        "            relationships.append((record[\"from\"], record[\"type\"], record[\"to\"]))\n",
        "\n",
        "    with driver.session() as session:\n",
        "        session.read_transaction(fetch_graph)\n",
        "\n",
        "    driver.close()\n",
        "    return relationships\n",
        "\n",
        "# Obtener nodos y relaciones de Neo4j\n",
        "relationships = get_nodes_and_relationships(URI, AUTH)\n",
        "print(\"Relaciones en Neo4j:\\n\", relationships)\n",
        "\n",
        "# relationships son las relaciones para cargar en el pyspark. El output seria\n",
        "# el siguiente:\n"
      ]
    },
    {
      "cell_type": "markdown",
      "metadata": {
        "id": "P-zqIzB932zy"
      },
      "source": [
        "![Captura de pantalla 2024-06-24 174014.png](data:image/png;base64,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)"
      ]
    },
    {
      "cell_type": "code",
      "execution_count": null,
      "metadata": {
        "colab": {
          "base_uri": "https://localhost:8080/"
        },
        "id": "yDpCBSB2vYkv",
        "outputId": "c5f06246-37dd-47e4-c678-4b4dec38edb2"
      },
      "outputs": [
        {
          "output_type": "stream",
          "name": "stdout",
          "text": [
            "Requirement already satisfied: pyspark in /usr/local/lib/python3.10/dist-packages (3.5.1)\n",
            "Requirement already satisfied: py4j==0.10.9.7 in /usr/local/lib/python3.10/dist-packages (from pyspark) (0.10.9.7)\n"
          ]
        }
      ],
      "source": [
        "!pip install pyspark"
      ]
    },
    {
      "cell_type": "code",
      "source": [
        "from pyspark.sql import SparkSession\n",
        "import numpy as np\n",
        "from itertools import combinations\n"
      ],
      "metadata": {
        "id": "CBvVr7X7jFyI"
      },
      "execution_count": null,
      "outputs": []
    },
    {
      "cell_type": "code",
      "execution_count": null,
      "metadata": {
        "colab": {
          "base_uri": "https://localhost:8080/",
          "height": 196
        },
        "id": "gFuo_ixqwUGG",
        "outputId": "36c3f5a1-6bd9-45c5-bda1-3caaf4595481"
      },
      "outputs": [
        {
          "output_type": "execute_result",
          "data": {
            "text/plain": [
              "<SparkContext master=local[*] appName=pyspark-shell>"
            ],
            "text/html": [
              "\n",
              "        <div>\n",
              "            <p><b>SparkContext</b></p>\n",
              "\n",
              "            <p><a href=\"http://f2aa726713da:4040\">Spark UI</a></p>\n",
              "\n",
              "            <dl>\n",
              "              <dt>Version</dt>\n",
              "                <dd><code>v3.5.1</code></dd>\n",
              "              <dt>Master</dt>\n",
              "                <dd><code>local[*]</code></dd>\n",
              "              <dt>AppName</dt>\n",
              "                <dd><code>pyspark-shell</code></dd>\n",
              "            </dl>\n",
              "        </div>\n",
              "        "
            ]
          },
          "metadata": {},
          "execution_count": 14
        }
      ],
      "source": [
        "spark = SparkSession.builder.getOrCreate()\n",
        "\n",
        "sc = spark.sparkContext\n",
        "sc"
      ]
    },
    {
      "cell_type": "markdown",
      "source": [
        "## Definiciones parametros y grafos"
      ],
      "metadata": {
        "id": "43R0KvppbPHO"
      }
    },
    {
      "cell_type": "code",
      "source": [
        "# Parámetro b\n",
        "b = 5\n",
        "\n",
        "# Datos de prueba\n",
        "edges = [\n",
        "    (0,11,2),\n",
        "    (0,11,3),\n",
        "    (1,11,2),\n",
        "    (2,11,1),\n",
        "    (2,11,3),\n",
        "    (3,11,0),\n",
        "    (3,11,1),\n",
        "    (3,11,2),\n",
        "    (3,12,5),\n",
        "    (4,12,0),\n",
        "    (5,12,0),\n",
        "    (4,12,5),\n",
        "    (3,12,1),\n",
        "    (1,12,2),\n",
        "    (2,12,0),\n",
        "    (0,12,3),\n",
        "    ]\n",
        "\n",
        "# Crear la RDD\n",
        "rdd = sc.parallelize(edges)"
      ],
      "metadata": {
        "id": "XcqsVGJMOMzI"
      },
      "execution_count": null,
      "outputs": []
    },
    {
      "cell_type": "markdown",
      "source": [
        "## Bullet 2\n"
      ],
      "metadata": {
        "id": "Vpg0k4S4bzYx"
      }
    },
    {
      "cell_type": "code",
      "execution_count": null,
      "metadata": {
        "colab": {
          "base_uri": "https://localhost:8080/"
        },
        "id": "08MsKxNc0Gyc",
        "outputId": "4ca08820-ef1c-40dd-fb21-ccbc077fbba0"
      },
      "outputs": [
        {
          "output_type": "stream",
          "name": "stdout",
          "text": [
            "Triangulos\n",
            "(3, 2, 0)\n",
            "(3, 5, 0)\n",
            "(1, 2, 3)\n",
            "(0, 2, 3)\n",
            "(3, 0, 2)\n",
            "(3, 1, 2)\n",
            "(2, 3, 1)\n",
            "(5, 0, 3)\n",
            "(0, 3, 5)\n",
            "(2, 0, 3)\n",
            "(0, 3, 2)\n",
            "(2, 3, 0)\n"
          ]
        }
      ],
      "source": [
        " # Función hash\n",
        "def hash_function(node, b):\n",
        "    return node % b\n",
        "\n",
        "# Función de map\n",
        "def mapfunc(arista, b):\n",
        "  n1, etiqueta, n2 = arista\n",
        "  b1 = hash_function(n1, b)\n",
        "  b2 = hash_function(n2, b)\n",
        "  results = []\n",
        "  for i in range(b):\n",
        "    key = (b1, b2, i)\n",
        "    results.append((key, arista))\n",
        "    key =  (i, b1, b2)\n",
        "    results.append((key, arista))\n",
        "    key = (b2, i, b1)\n",
        "    results.append((key, arista))\n",
        "  return results\n",
        "\n",
        "\n",
        "# Fase de Reduce\n",
        "def reduce_function(key, values):\n",
        "    edges = list(values)\n",
        "    triangles = []\n",
        "    for (n1, R1, n2) in edges:\n",
        "        for (n2_, R2, n3) in edges:\n",
        "            if n2 == n2_:\n",
        "                for (n3_, R3, n1_) in edges:\n",
        "                    if n3 == n3_ and n1 == n1_:\n",
        "                        triangles.append((n1, n2, n3))\n",
        "    return triangles\n",
        "\n",
        "\n",
        "\n",
        "\n",
        "# Aplicar el algoritmo\n",
        "triangulos = set(rdd.flatMap(lambda x: mapfunc(x, 5)).groupByKey().flatMap(lambda x: reduce_function(x[0], x[1])).collect())\n",
        "\n",
        "print(\"Triangulos\")\n",
        "if len(triangulos)>0:\n",
        "  for triangulo in triangulos:\n",
        "    print(triangulo)\n",
        "else:\n",
        "  print(\"No se encontraron triangulos\")\n",
        "\n",
        "\n"
      ]
    },
    {
      "cell_type": "markdown",
      "source": [
        "# Bullet 4"
      ],
      "metadata": {
        "id": "2MuZM2wUb2S6"
      }
    },
    {
      "cell_type": "code",
      "execution_count": null,
      "metadata": {
        "id": "VW7_W4ul_1k0"
      },
      "outputs": [],
      "source": [
        "# Fase de Map\n",
        "def map_function(arista, b):\n",
        "    n1, etiqueta, n2 = arista\n",
        "    b1 = hash_function(n1, b)\n",
        "    b2 = hash_function(n2, b)\n",
        "    results = []\n",
        "    for i in range(b):\n",
        "        for j in range(b):\n",
        "            key = (b1, b2, i, j)\n",
        "            results.append((key, arista))\n",
        "            key = (b1, i, b2, j)\n",
        "            results.append((key, arista))\n",
        "            key = (b1, i, j, b2)\n",
        "            results.append((key, arista))\n",
        "            key = (i, b1, b2, j)\n",
        "            results.append((key, arista))\n",
        "            key = (i, b1, j, b2)\n",
        "            results.append((key, arista))\n",
        "            key = (b2, b1, i, j)\n",
        "            results.append((key, arista))\n",
        "            key = (i, j, b1, b2)\n",
        "            results.append((key, arista))\n",
        "            key = (b2, j, b1, i)\n",
        "            results.append((key, arista))\n",
        "            key = (i, b2, b1, j)\n",
        "            results.append((key, arista))\n",
        "            key = (b2, i, j, b1)\n",
        "            results.append((key, arista))\n",
        "            key = (i, b2, j, b1)\n",
        "            results.append((key, arista))\n",
        "            key = (i, j, b2, b1)\n",
        "            results.append((key, arista))\n",
        "    return results\n",
        "\n",
        "def encontrar_patrones(grafo, patron):\n",
        "    resultados = []\n",
        "    m = len(patron)\n",
        "    grafo = list(grafo)\n",
        "    grafo.sort(key=lambda x: (x[0], x[2]))\n",
        "    grafo.sort(key=lambda x: x[1])\n",
        "\n",
        "    # Función auxiliar para verificar si una subsecuencia del grafo coincide con el patrón\n",
        "    def coincide_subsecuencia(subgrafo, patron):\n",
        "        asignacion = {}\n",
        "        for (nodo1, etiqueta1, nodo2), (nodo_patron1, etiqueta_patron, nodo_patron2) in zip(subgrafo, patron):\n",
        "\n",
        "            if etiqueta1 != etiqueta_patron:\n",
        "                return False\n",
        "            if nodo_patron1 not in asignacion:\n",
        "                if nodo1 in asignacion.values():\n",
        "                  return False\n",
        "                asignacion[nodo_patron1] = nodo1\n",
        "            elif asignacion[nodo_patron1] != nodo1:\n",
        "                return False\n",
        "            if nodo_patron2 not in asignacion:\n",
        "              if nodo2 in asignacion.values():\n",
        "                  return False\n",
        "              asignacion[nodo_patron2] = nodo2\n",
        "            elif asignacion[nodo_patron2] != nodo2:\n",
        "                return False\n",
        "        return True\n",
        "\n",
        "    # Generar todas las combinaciones posibles de aristas del grafo de longitud igual al patrón\n",
        "    for subgrafo in combinations(grafo, m):\n",
        "        if coincide_subsecuencia(subgrafo, patron):\n",
        "            resultados.append(subgrafo)\n",
        "\n",
        "    return resultados\n",
        "\n",
        "\n",
        "# Función para convertir la matriz M a una lista de tuplas (nodo_x, arista, nodo_y)\n",
        "def convert_matrix_to_edge_list(A, L, M):\n",
        "    edge_list = []\n",
        "    for i in range(len(A)):\n",
        "        for j in range(len(A)):\n",
        "            for k in range(len(L)):\n",
        "                if M[i][k][j] == 1:\n",
        "                    edge_list.append((i, L[k], j))\n",
        "    return edge_list\n"
      ]
    },
    {
      "cell_type": "markdown",
      "source": [
        "## TESTEO"
      ],
      "metadata": {
        "id": "RwmzR7JmTaYy"
      }
    },
    {
      "cell_type": "code",
      "source": [
        "# Nodos y tipos de aristas\n",
        "A = [\"x\", \"y\", \"z\", \"w\"]\n",
        "L = [11, 12]\n",
        "\n",
        "# Ejemplo de aristas\n",
        "edges_patron = [\n",
        "    (0,0,2), # (\"x\", \"11\", \"z\")\n",
        "    (0,0,3), # (\"x\", \"11\", \"w\")\n",
        "    (1,0,2), # (\"y\", \"11\", \"z\")\n",
        "    (2,0,1), # (\"z\", \"11\", \"y\")\n",
        "    (2,0,3), # (\"w\", \"11\", \"z\")\n",
        "    (3,0,0), # (\"w\", \"11\", \"x\")\n",
        "    (1,1,2), # (\"y\", \"12\", \"z\")\n",
        "    (2,1,0), # (\"z\", \"12\", \"x\")\n",
        "]\n",
        "\n",
        "# Inicializar la matriz M con ceros\n",
        "num_nodes = len(A)\n",
        "num_edges = len(L)\n",
        "M = np.zeros((num_nodes, num_edges, num_nodes), dtype=int)\n",
        "\n",
        "# Llenar la matriz M con las aristas\n",
        "for x, r, y in edges_patron:\n",
        "  M[x][r][y] = 1\n",
        "\n",
        "# Convertir la matriz NumPy a una lista de listas\n",
        "M = M.tolist()\n",
        "\n",
        "print(\"Matriz:\", M)"
      ],
      "metadata": {
        "colab": {
          "base_uri": "https://localhost:8080/"
        },
        "id": "7Y4HAWr8O0KV",
        "outputId": "e17414ea-68a8-4883-8125-4d3788a96e95"
      },
      "execution_count": null,
      "outputs": [
        {
          "output_type": "stream",
          "name": "stdout",
          "text": [
            "Matriz: [[[0, 0, 1, 1], [0, 0, 0, 0]], [[0, 0, 1, 0], [0, 0, 1, 0]], [[0, 1, 0, 1], [1, 0, 0, 0]], [[1, 0, 0, 0], [0, 0, 0, 0]]]\n"
          ]
        }
      ]
    },
    {
      "cell_type": "code",
      "source": [
        "def bullet_4(A, L, M, b):\n",
        "  patron = convert_matrix_to_edge_list(A,L,M)\n",
        "  patron.sort(key=lambda x: (x[0], x[2]))\n",
        "  patron.sort(key=lambda x: x[1])\n",
        "  mapeado = rdd.flatMap(lambda edge: map_function(edge, b))\n",
        "  retorno = set(mapeado.groupByKey().flatMap(lambda x: encontrar_patrones(x[1], patron)).collect())\n",
        "  if len(retorno) > 0:\n",
        "    print(\"El patron se encontró en:\")\n",
        "    for p in retorno:\n",
        "      print(p)\n",
        "  else:\n",
        "    print(\"No se encontró el patron en el grafo\")\n",
        "\n",
        "\n",
        "bullet_4(A,L,M,b)"
      ],
      "metadata": {
        "colab": {
          "base_uri": "https://localhost:8080/"
        },
        "id": "BZrP_EddR9wY",
        "outputId": "7679a537-664c-4379-b675-c30d9bccbfcc"
      },
      "execution_count": null,
      "outputs": [
        {
          "output_type": "stream",
          "name": "stdout",
          "text": [
            "El patron se encontró en:\n",
            "((0, 11, 2), (0, 11, 3), (1, 11, 2), (2, 11, 1), (2, 11, 3), (3, 11, 0), (1, 12, 2), (2, 12, 0))\n"
          ]
        }
      ]
    },
    {
      "cell_type": "code",
      "source": [
        "# Nodos y tipos de aristas\n",
        "A = [\"x\", \"y\", \"z\", \"w\"]\n",
        "L = [11, 12, 13]\n",
        "\n",
        "# Ejemplo de aristas\n",
        "edges_patron = [\n",
        "    (0,2,2)\n",
        "]\n",
        "\n",
        "# Inicializar la matriz M con ceros\n",
        "num_nodes = len(A)\n",
        "num_edges = len(L)\n",
        "M = np.zeros((num_nodes, num_edges, num_nodes), dtype=int)\n",
        "\n",
        "# Llenar la matriz M con las aristas\n",
        "for x, r, y in edges_patron:\n",
        "  M[x][r][y] = 1\n",
        "\n",
        "# Convertir la matriz NumPy a una lista de listas\n",
        "M = M.tolist()\n",
        "\n",
        "bullet_4(A,L,M,b)"
      ],
      "metadata": {
        "colab": {
          "base_uri": "https://localhost:8080/"
        },
        "id": "EKTZefHlRi2A",
        "outputId": "61183bc0-cb48-4840-b0db-5ea3125cace8"
      },
      "execution_count": null,
      "outputs": [
        {
          "output_type": "stream",
          "name": "stdout",
          "text": [
            "No se encontró el patron en el grafo\n"
          ]
        }
      ]
    },
    {
      "cell_type": "code",
      "source": [
        "# Nodos y tipos de aristas\n",
        "A = [\"x\", \"y\", \"z\", \"w\"]\n",
        "L = [11, 12, 13]\n",
        "\n",
        "# Ejemplo de aristas\n",
        "edges_patron = [\n",
        "    (0,0,1),\n",
        "    (1,0,2),\n",
        "    (2,1,3),\n",
        "    (3,1,0)\n",
        "]\n",
        "\n",
        "# Inicializar la matriz M con ceros\n",
        "num_nodes = len(A)\n",
        "num_edges = len(L)\n",
        "M = np.zeros((num_nodes, num_edges, num_nodes), dtype=int)\n",
        "\n",
        "# Llenar la matriz M con las aristas\n",
        "for x, r, y in edges_patron:\n",
        "  M[x][r][y] = 1\n",
        "\n",
        "# Convertir la matriz NumPy a una lista de listas\n",
        "M = M.tolist()\n",
        "\n",
        "bullet_4(A,L,M,b)"
      ],
      "metadata": {
        "colab": {
          "base_uri": "https://localhost:8080/"
        },
        "id": "e30nDXB_XDWL",
        "outputId": "cd4f8079-27c4-4025-a108-4d5eb9ac3817"
      },
      "execution_count": null,
      "outputs": [
        {
          "output_type": "stream",
          "name": "stdout",
          "text": [
            "El patron se encontró en:\n",
            "((0, 11, 2), (2, 11, 3), (3, 12, 5), (5, 12, 0))\n",
            "((0, 11, 3), (3, 11, 1), (1, 12, 2), (2, 12, 0))\n"
          ]
        }
      ]
    }
  ],
  "metadata": {
    "colab": {
      "provenance": []
    },
    "kernelspec": {
      "display_name": "Python 3",
      "name": "python3"
    },
    "language_info": {
      "name": "python"
    }
  },
  "nbformat": 4,
  "nbformat_minor": 0
}